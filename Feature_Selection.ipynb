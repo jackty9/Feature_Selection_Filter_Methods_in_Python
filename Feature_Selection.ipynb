{
  "nbformat": 4,
  "nbformat_minor": 0,
  "metadata": {
    "colab": {
      "name": "Feature_Selection.ipynb",
      "provenance": [],
      "collapsed_sections": [],
      "toc_visible": true,
      "authorship_tag": "ABX9TyOUzZc5dohKKzioomZjrDCc",
      "include_colab_link": true
    },
    "kernelspec": {
      "name": "python3",
      "display_name": "Python 3"
    }
  },
  "cells": [
    {
      "cell_type": "markdown",
      "metadata": {
        "id": "view-in-github",
        "colab_type": "text"
      },
      "source": [
        "<a href=\"https://colab.research.google.com/github/jackty9/Feature_Selection_in_Python/blob/master/Feature_Selection.ipynb\" target=\"_parent\"><img src=\"https://colab.research.google.com/assets/colab-badge.svg\" alt=\"Open In Colab\"/></a>"
      ]
    },
    {
      "cell_type": "markdown",
      "metadata": {
        "id": "bk0ZpCNRFyLU",
        "colab_type": "text"
      },
      "source": [
        "# Numerical input, numerical output"
      ]
    },
    {
      "cell_type": "code",
      "metadata": {
        "id": "MqM2ANgk9BU9",
        "colab_type": "code",
        "colab": {
          "base_uri": "https://localhost:8080/",
          "height": 123
        },
        "outputId": "acbc1fcb-d42a-42d6-9389-0b52c888924d"
      },
      "source": [
        "from sklearn.datasets import make_regression\n",
        "from sklearn.feature_selection import SelectKBest\n",
        "from sklearn.feature_selection import f_regression\n",
        "import pandas as pd\n",
        "\n",
        "# generate dataset\n",
        "X, y = make_regression(n_samples=100, n_features=50, n_informative=10)\n",
        "#assign column names \n",
        "col_list = ['col_' + str(x) for x in range(0,50)]\n",
        "#create a dataframe table\n",
        "df = pd.DataFrame(X, columns=col_list)\n",
        "\n",
        "#feature selection using f_regression \n",
        "fs = SelectKBest(score_func=f_regression, k=5)\n",
        "fit = fs.fit(X,y)\n",
        "#create df for scores\n",
        "dfscores = pd.DataFrame(fit.scores_)\n",
        "#create df for column names\n",
        "dfcolumns = pd.DataFrame(df.columns)\n",
        "\n",
        "#concat two dataframes for better visualization \n",
        "featureScores = pd.concat([dfcolumns,dfscores],axis=1)\n",
        "#naming the dataframe columns\n",
        "featureScores.columns = ['Selected_columns','Score_regression'] \n",
        "#print 5 best features\n",
        "print(featureScores.nlargest(5,'Score_regression'))  "
      ],
      "execution_count": null,
      "outputs": [
        {
          "output_type": "stream",
          "text": [
            "   Selected_columns  Score_regression\n",
            "12           col_12         43.112463\n",
            "29           col_29         41.179494\n",
            "22           col_22         20.525630\n",
            "8             col_8         17.754656\n",
            "23           col_23         10.996860\n"
          ],
          "name": "stdout"
        }
      ]
    },
    {
      "cell_type": "markdown",
      "metadata": {
        "colab_type": "text",
        "id": "qSuZ5TCPGDtL"
      },
      "source": [
        "# Numerical input, categorical output"
      ]
    },
    {
      "cell_type": "code",
      "metadata": {
        "colab_type": "code",
        "id": "0Ld80ozxGKk9",
        "colab": {
          "base_uri": "https://localhost:8080/",
          "height": 123
        },
        "outputId": "11f1d952-fbf4-4a6c-c2ef-77e24efe5453"
      },
      "source": [
        "from sklearn.datasets import make_classification\n",
        "from sklearn.feature_selection import SelectKBest\n",
        "from sklearn.feature_selection import f_classif\n",
        "import pandas as pd\n",
        "\n",
        "# generate dataset\n",
        "X, y = make_classification(n_samples=100, n_features=50, n_informative=10)\n",
        "#assign column names \n",
        "col_list = ['col_' + str(x) for x in range(0,50)]\n",
        "#create a dataframe table\n",
        "df = pd.DataFrame(X, columns=col_list)\n",
        "\n",
        "#feature selection using f_classif\n",
        "fs = SelectKBest(score_func=f_classif, k=5)\n",
        "fit = fs.fit(X,y)\n",
        "#create df for scores\n",
        "dfscores = pd.DataFrame(fit.scores_)\n",
        "#create df for column names\n",
        "dfcolumns = pd.DataFrame(df.columns)\n",
        "\n",
        "#concat two dataframes for better visualization \n",
        "featureScores = pd.concat([dfcolumns,dfscores],axis=1)\n",
        "#naming the dataframe columns\n",
        "featureScores.columns = ['Selected_columns','Score_ANOVA'] \n",
        "#print 5 best features\n",
        "print(featureScores.nlargest(5,'Score_ANOVA'))  "
      ],
      "execution_count": 1,
      "outputs": [
        {
          "output_type": "stream",
          "text": [
            "   Selected_columns  Score_ANOVA\n",
            "49           col_49    45.921815\n",
            "31           col_31    30.376094\n",
            "1             col_1    16.660251\n",
            "25           col_25     8.463626\n",
            "4             col_4     6.975909\n"
          ],
          "name": "stdout"
        }
      ]
    },
    {
      "cell_type": "markdown",
      "metadata": {
        "id": "W3OaaKahF9MS",
        "colab_type": "text"
      },
      "source": [
        "# Categorical input, categorical output"
      ]
    },
    {
      "cell_type": "markdown",
      "metadata": {
        "id": "UgfKVx4DhQPv",
        "colab_type": "text"
      },
      "source": [
        "## Chi-squared"
      ]
    },
    {
      "cell_type": "code",
      "metadata": {
        "id": "ULrqK4Vlzd1l",
        "colab_type": "code",
        "colab": {
          "base_uri": "https://localhost:8080/",
          "height": 123
        },
        "outputId": "1cd57713-fd79-44b0-b42f-5de2a490cb49"
      },
      "source": [
        "from sklearn.feature_selection import SelectKBest\n",
        "from sklearn.feature_selection import chi2\n",
        "import pandas as pd\n",
        "\n",
        "#import raw data, data can be found in Github directory \n",
        "df = pd.read_csv(\"car_data.csv\")\n",
        "X = df1.iloc[:,0:5]\n",
        "X = pd.get_dummies(X)\n",
        "y = df1.iloc[:,-1]\n",
        "y = pd.get_dummies(y)\n",
        "\n",
        "#feature selection using chi2\n",
        "bestfeatures = SelectKBest(score_func=chi2, k=5)\n",
        "fit = bestfeatures.fit(X,y)\n",
        "#create df for scores\n",
        "dfscores = pd.DataFrame(fit.scores_)\n",
        "#create df for column names\n",
        "dfcolumns = pd.DataFrame(X.columns)\n",
        "\n",
        "#concat two dataframes for better visualization \n",
        "featureScores = pd.concat([dfcolumns,dfscores],axis=1)\n",
        "#naming the dataframe columns\n",
        "featureScores.columns = ['Selected_columns','Score_chi2'] \n",
        "#print 5 best features\n",
        "print(featureScores.nlargest(5,'Score_chi2')) "
      ],
      "execution_count": 44,
      "outputs": [
        {
          "output_type": "stream",
          "text": [
            "   Selected_columns  Score_chi2\n",
            "12        persons_2  246.585124\n",
            "1     buy_price_low   86.823364\n",
            "13        persons_4   69.516298\n",
            "5   maint_price_low   57.868044\n",
            "14     persons_more   55.235306\n"
          ],
          "name": "stdout"
        }
      ]
    },
    {
      "cell_type": "markdown",
      "metadata": {
        "id": "jsqBplgThTqC",
        "colab_type": "text"
      },
      "source": [
        "## Mutual Info for classification"
      ]
    },
    {
      "cell_type": "code",
      "metadata": {
        "id": "MDAfVbKwa-38",
        "colab_type": "code",
        "colab": {
          "base_uri": "https://localhost:8080/",
          "height": 123
        },
        "outputId": "be01c32b-fad4-46b0-c2e0-446835131cf4"
      },
      "source": [
        "from sklearn.feature_selection import SelectKBest\n",
        "from sklearn.feature_selection import mutual_info_classif\n",
        "import pandas as pd\n",
        "\n",
        "#import raw data, data can be found in Github directory \n",
        "df1 = pd.read_csv(\"car_data.csv\")\n",
        "X = df1.iloc[:,0:5]\n",
        "X = pd.get_dummies(X)\n",
        "y = df1.iloc[:,-1]\n",
        "\n",
        "#feature selection using mutual_info_classif\n",
        "bestfeatures = SelectKBest(score_func=mutual_info_classif, k=5)\n",
        "fit = bestfeatures.fit(X,y)\n",
        "#create df for scores\n",
        "dfscores = pd.DataFrame(fit.scores_)\n",
        "#create df for column names\n",
        "dfcolumns = pd.DataFrame(X.columns)\n",
        "\n",
        "#concat two dataframes for better visualization \n",
        "featureScores = pd.concat([dfcolumns,dfscores],axis=1)\n",
        "#naming the dataframe columns\n",
        "featureScores.columns = ['Selected_columns','Score_MutualInfo']  \n",
        "#print 5 best features\n",
        "print(featureScores.nlargest(5,'Score_MutualInfo'))  "
      ],
      "execution_count": 45,
      "outputs": [
        {
          "output_type": "stream",
          "text": [
            "     Selected_columns  Score_MutualInfo\n",
            "12          persons_2          0.151740\n",
            "17     lug_boot_small          0.024761\n",
            "7   maint_price_vhigh          0.022919\n",
            "0      buy_price_high          0.022710\n",
            "14       persons_more          0.019861\n"
          ],
          "name": "stdout"
        }
      ]
    }
  ]
}